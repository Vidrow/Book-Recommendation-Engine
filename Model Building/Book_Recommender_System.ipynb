{
  "cells": [
    {
      "cell_type": "code",
      "execution_count": null,
      "metadata": {
        "id": "yDGHv7T9-9GK"
      },
      "outputs": [],
      "source": [
        "import pandas as pd\n",
        "import numpy as np"
      ]
    },
    {
      "cell_type": "code",
      "execution_count": null,
      "metadata": {
        "id": "qSvduuKfXhf_"
      },
      "outputs": [],
      "source": [
        "ratings_data = pd.read_csv(\"/content/BX-Book-Ratings.csv\",sep=\";\",error_bad_lines=False,encoding=\"latin-1\")\n",
        "ratings_data_copy = ratings_data.copy()\n",
        "\n",
        "users_data = pd.read_csv(\"/content/BX-Users.csv\",encoding=\"latin-1\",sep=\";\",error_bad_lines=False)\n",
        "users_data_copy = users_data.copy()\n",
        "\n",
        "books_data = pd.read_csv(\"/content/BX-Books.csv\",sep=\";\",encoding=\"latin-1\",error_bad_lines=False,engine=\"python\")\n",
        "books_data_copy = books_data.copy()"
      ]
    },
    {
      "cell_type": "code",
      "execution_count": null,
      "metadata": {
        "id": "fBEioBJHXhVc"
      },
      "outputs": [],
      "source": [
        "#Keeping the required columns.\n",
        "books_data = books_data[[\"ISBN\",\"Book-Title\",\"Book-Author\",\"Year-Of-Publication\",\"Publisher\"]]"
      ]
    },
    {
      "cell_type": "code",
      "execution_count": null,
      "metadata": {
        "id": "y9smpvfeXhHP"
      },
      "outputs": [],
      "source": [
        "#Changing the column names for better.\n",
        "books_data.rename(columns={\"Book-Title\":\"title\",\"Book-Author\":\"author\",\"Year-Of-Publication\":\"year\",\"Publisher\":\"publisher\"},inplace=True)\n",
        "users_data.rename(columns={\"User-ID\":\"user_id\",\"Location\":\"location\",\"Age\":\"age\"},inplace=True)\n",
        "ratings_data.rename(columns={\"User-ID\":\"user_id\",\"Book-Rating\":\"rating\"},inplace=True)"
      ]
    },
    {
      "cell_type": "code",
      "execution_count": null,
      "metadata": {
        "id": "WnJ7aBUojBBt"
      },
      "outputs": [],
      "source": [
        "#Find out those users who have rated the books\n",
        "ratings_data[\"user_id\"].value_counts().shape\n",
        "#105283 users have actually rated the books"
      ]
    },
    {
      "cell_type": "code",
      "execution_count": null,
      "metadata": {
        "id": "RGrbxAdVjf1U"
      },
      "outputs": [],
      "source": [
        "#Now only select those users who have given more than 180 ratings\n",
        "#This will improve our accuracy\n",
        "a = ratings_data[\"user_id\"].value_counts()>=180\n",
        "b = a[a].index"
      ]
    },
    {
      "cell_type": "code",
      "execution_count": null,
      "metadata": {
        "id": "u9umjdKGlHnF"
      },
      "outputs": [],
      "source": [
        "#Selecting only those rows of the user id\n",
        "ratings_data = ratings_data[ratings_data[\"user_id\"].isin(b)]"
      ]
    },
    {
      "cell_type": "code",
      "execution_count": null,
      "metadata": {
        "id": "_6Cttdu2mMWF"
      },
      "outputs": [],
      "source": [
        "#Merging rating_data and users_data based on ISBN column\n",
        "rated_books_data = ratings_data.merge(books_data,on=\"ISBN\")"
      ]
    },
    {
      "cell_type": "code",
      "execution_count": null,
      "metadata": {
        "id": "cnaKT9GElcsn"
      },
      "outputs": [],
      "source": [
        "#Calculate how many books have rated how many times\n",
        "no_of_ratings_data = rated_books_data.groupby(\"title\")[\"rating\"].count().reset_index()\n",
        "no_of_ratings_data.rename(columns={\"rating\":\"number_of_rating\"},inplace=True)"
      ]
    },
    {
      "cell_type": "code",
      "execution_count": null,
      "metadata": {
        "id": "Mm14VMN0qntb"
      },
      "outputs": [],
      "source": [
        "#Merging no_of_ratings_data with rated_books_data\n",
        "final_rating_data = rated_books_data.merge(no_of_ratings_data,on=\"title\")"
      ]
    },
    {
      "cell_type": "code",
      "execution_count": null,
      "metadata": {
        "id": "7TmxGJlqoO2e"
      },
      "outputs": [],
      "source": [
        "#Selecting books with 50 or more number of rating\n",
        "final_rating_data = final_rating_data[final_rating_data[\"number_of_rating\"]>=50]"
      ]
    },
    {
      "cell_type": "code",
      "source": [
        "#drop any duplicates from final_rating_data\n",
        "final_rating_data.drop_duplicates([\"user_id\",\"title\"],inplace=True)"
      ],
      "metadata": {
        "id": "nb-aDZNBkr6H"
      },
      "execution_count": null,
      "outputs": []
    },
    {
      "cell_type": "code",
      "source": [
        "final_rating_data.shape"
      ],
      "metadata": {
        "colab": {
          "base_uri": "https://localhost:8080/"
        },
        "id": "D7lsph4ylD9m",
        "outputId": "5d7bd4d4-f18a-48f3-d082-ef7b82d49508"
      },
      "execution_count": null,
      "outputs": [
        {
          "output_type": "execute_result",
          "data": {
            "text/plain": [
              "(66083, 8)"
            ]
          },
          "metadata": {},
          "execution_count": 125
        }
      ]
    },
    {
      "cell_type": "code",
      "execution_count": null,
      "metadata": {
        "colab": {
          "base_uri": "https://localhost:8080/"
        },
        "id": "NoZlSLl6mDhM",
        "outputId": "97bd9f87-5b15-4e69-dfa7-9bf05594a534"
      },
      "outputs": [
        {
          "output_type": "execute_result",
          "data": {
            "text/plain": [
              "(59899, 8)"
            ]
          },
          "metadata": {},
          "execution_count": 53
        }
      ],
      "source": [
        "final_rating_data.shape"
      ]
    },
    {
      "cell_type": "code",
      "source": [
        "#Creating pivot table with col=user,index=books,values=rating\n",
        "rating_pivot_table = final_rating_data.pivot_table(columns=\"user_id\",index=\"title\",values=\"rating\")\n",
        "rating_pivot_table.fillna(0,inplace=True)"
      ],
      "metadata": {
        "id": "Cp_rxt7Imbkw"
      },
      "execution_count": null,
      "outputs": []
    },
    {
      "cell_type": "code",
      "source": [
        "#We will cluster \n",
        "#so the 0 wil be less important for our algorigthm so we will convert this pivot table to sparse matrix\n",
        "#the sparse matrix will be used for building model\n",
        "from scipy.sparse import csr_matrix\n",
        "sparse_matrix = csr_matrix(rating_pivot_table)\n"
      ],
      "metadata": {
        "id": "V5btXBRKnzUV"
      },
      "execution_count": null,
      "outputs": []
    },
    {
      "cell_type": "markdown",
      "source": [
        "**Model Building**"
      ],
      "metadata": {
        "id": "m8pDCwFMrQfM"
      }
    },
    {
      "cell_type": "code",
      "source": [
        "from sklearn.neighbors import NearestNeighbors\n",
        "model = NearestNeighbors(algorithm='brute')"
      ],
      "metadata": {
        "id": "yh0zoBNkqBqo"
      },
      "execution_count": null,
      "outputs": []
    },
    {
      "cell_type": "code",
      "source": [
        "model.fit(sparse_matrix)"
      ],
      "metadata": {
        "colab": {
          "base_uri": "https://localhost:8080/"
        },
        "id": "PC5-eoaHsiUY",
        "outputId": "eaa39dab-7f63-4a17-df8b-dc6f17fe5bbc"
      },
      "execution_count": null,
      "outputs": [
        {
          "output_type": "execute_result",
          "data": {
            "text/plain": [
              "NearestNeighbors(algorithm='brute')"
            ]
          },
          "metadata": {},
          "execution_count": 129
        }
      ]
    },
    {
      "cell_type": "code",
      "source": [
        "#claculating distance of each book with every other books\n",
        "distances,suggestions=model.kneighbors(rating_pivot_table.iloc[0,:].values.reshape(1,-1),n_neighbors=6)"
      ],
      "metadata": {
        "id": "AVkRg8ZyzFx-"
      },
      "execution_count": null,
      "outputs": []
    },
    {
      "cell_type": "code",
      "source": [
        "suggestions"
      ],
      "metadata": {
        "id": "7eMMzQ7nA2T9"
      },
      "execution_count": null,
      "outputs": []
    },
    {
      "cell_type": "code",
      "source": [
        "def recommend_books(book_name):\n",
        "  book_index = np.where(rating_pivot_table.index==book_name)[0][0]\n",
        "  distances , suggestions = model.kneighbors(rating_pivot_table.iloc[book_index,:].values.reshape(1,-1),n_neighbors=6)\n",
        "  suggestions = np.ravel(suggestions, order='C') #2d to 1d array\n",
        "  for i in suggestions:\n",
        "    print(rating_pivot_table.index[i])\n"
      ],
      "metadata": {
        "id": "LrycyznJ5x2B"
      },
      "execution_count": null,
      "outputs": []
    },
    {
      "cell_type": "code",
      "source": [
        "recommend_books(\"1984\")"
      ],
      "metadata": {
        "colab": {
          "base_uri": "https://localhost:8080/"
        },
        "id": "VDpCTvVn2xx-",
        "outputId": "5180dc99-0de8-4f7d-a1ad-2197ae25aeae"
      },
      "execution_count": null,
      "outputs": [
        {
          "output_type": "stream",
          "name": "stdout",
          "text": [
            "1984\n",
            "No Safe Place\n",
            "A Civil Action\n",
            "Malice\n",
            "Abduction\n",
            "Master of the Game\n"
          ]
        }
      ]
    },
    {
      "cell_type": "code",
      "source": [
        "recommend_books(\"Animal Farm\")"
      ],
      "metadata": {
        "colab": {
          "base_uri": "https://localhost:8080/"
        },
        "id": "lwH0YYlj_XNp",
        "outputId": "8c98f114-6865-49e0-f0d0-175faae54ff2"
      },
      "execution_count": null,
      "outputs": [
        {
          "output_type": "stream",
          "name": "stdout",
          "text": [
            "Animal Farm\n",
            "Exclusive\n",
            "Jacob Have I Loved\n",
            "Second Nature\n",
            "The Playboy\n",
            "Personal Injuries\n"
          ]
        }
      ]
    },
    {
      "cell_type": "markdown",
      "source": [
        "**Here our recommendation model is complete**"
      ],
      "metadata": {
        "id": "HhHRA8Kt9zUB"
      }
    },
    {
      "cell_type": "markdown",
      "source": [
        "**Making book image dataframe**"
      ],
      "metadata": {
        "id": "9_cMLg7ZDOU-"
      }
    },
    {
      "cell_type": "code",
      "source": [
        "books_image_data = books_data_copy[[\"Book-Title\",\"Image-URL-M\"]]\n",
        "books_image_data.rename(columns={\"Book-Title\":\"title\",\"Image-URL-M\":\"image\"},inplace=True)\n",
        "books_image_data = books_image_data[books_image_data[\"title\"].isin(rating_pivot_table.index)]\n",
        "books_image_data.drop_duplicates(subset=[\"title\"],keep='first',inplace=True)"
      ],
      "metadata": {
        "id": "Pg8jHpRGDNj7"
      },
      "execution_count": null,
      "outputs": []
    },
    {
      "cell_type": "code",
      "source": [
        "books_image_data"
      ],
      "metadata": {
        "id": "iH_bLTQuOefZ"
      },
      "execution_count": null,
      "outputs": []
    },
    {
      "cell_type": "markdown",
      "source": [
        "**Pickling Our Model**"
      ],
      "metadata": {
        "id": "eCG4xNWd6TUm"
      }
    },
    {
      "cell_type": "code",
      "source": [
        "import pickle"
      ],
      "metadata": {
        "id": "KiII6Ccs6XAE"
      },
      "execution_count": null,
      "outputs": []
    },
    {
      "cell_type": "code",
      "source": [
        "pickle.dump(rating_pivot_table,open(\"rating_table.pkl\",\"wb\"))"
      ],
      "metadata": {
        "id": "lPj_Uwku6fP2"
      },
      "execution_count": null,
      "outputs": []
    },
    {
      "cell_type": "code",
      "source": [
        "pickle.dump(books_image_data,open(\"books_image_data.pkl\",\"wb\"))"
      ],
      "metadata": {
        "id": "2niLXpMkI-mI"
      },
      "execution_count": null,
      "outputs": []
    },
    {
      "cell_type": "markdown",
      "source": [
        "**Webpage Related**"
      ],
      "metadata": {
        "id": "m8mUOKbsKtF3"
      }
    },
    {
      "cell_type": "code",
      "source": [
        "import pandas as pd\n",
        "import numpy as np\n",
        "import pickle\n"
      ],
      "metadata": {
        "id": "4CldjbhsZh6P"
      },
      "execution_count": null,
      "outputs": []
    },
    {
      "cell_type": "code",
      "source": [
        "rating_table = pickle.load(open(\"/content/rating_table.pkl\",\"rb\"))\n",
        "books_image_data = pickle.load(open(\"/content/books_image_data.pkl\",\"rb\"))"
      ],
      "metadata": {
        "id": "4q-SXY66YoZs"
      },
      "execution_count": null,
      "outputs": []
    },
    {
      "cell_type": "code",
      "source": [
        "from scipy.sparse import csr_matrix\n",
        "new_sparse_matrix = csr_matrix(rating_table)"
      ],
      "metadata": {
        "id": "hKCioNf5cdCv"
      },
      "execution_count": null,
      "outputs": []
    },
    {
      "cell_type": "code",
      "source": [
        "from sklearn.neighbors import NearestNeighbors\n",
        "model2 = NearestNeighbors(algorithm='brute')"
      ],
      "metadata": {
        "id": "j8FHDz7Ocia_"
      },
      "execution_count": null,
      "outputs": []
    },
    {
      "cell_type": "code",
      "source": [
        "model2.fit(new_sparse_matrix)"
      ],
      "metadata": {
        "colab": {
          "base_uri": "https://localhost:8080/"
        },
        "id": "sUeqw1FqcmcD",
        "outputId": "46683b93-b812-46c7-bf85-e979d4ee354f"
      },
      "execution_count": null,
      "outputs": [
        {
          "output_type": "execute_result",
          "data": {
            "text/plain": [
              "NearestNeighbors(algorithm='brute')"
            ]
          },
          "metadata": {},
          "execution_count": 301
        }
      ]
    },
    {
      "cell_type": "code",
      "source": [
        "#Function for recommending movies\n",
        "def rec(book_name):\n",
        "  recommended_books = []\n",
        "  image_url = []\n",
        "  book_index = np.where(rating_table.index==book_name)[0][0]\n",
        "  distances , suggestions = model2.kneighbors(rating_table.iloc[book_index,:].values.reshape(1,-1),n_neighbors=6)\n",
        "  suggestions = np.ravel(suggestions, order='C') #2d to 1d array\n",
        "  for i in suggestions:\n",
        "    recommended_books.append(rating_table.index[i])\n",
        "  \n",
        "  for i in recommended_books:\n",
        "    image_url.append(books_image_data[books_image_data[\"title\"] == i ].image.to_string(index=False))\n",
        "\n",
        "    \n",
        "  return recommended_books,image_url\n",
        "\n"
      ],
      "metadata": {
        "id": "A96wobQ2K_70"
      },
      "execution_count": null,
      "outputs": []
    },
    {
      "cell_type": "code",
      "source": [
        "\n",
        "#Function to get the images\n",
        "def image(book_list):\n",
        "  image_url = []\n",
        "  for i in book_list:\n",
        "    image_url.append(books_image_data[books_image_data[\"title\"] == i ].image.to_string(index=False))\n",
        "  return image_url\n",
        "\n",
        "\n"
      ],
      "metadata": {
        "id": "y170S2fWLRAz"
      },
      "execution_count": null,
      "outputs": []
    },
    {
      "cell_type": "code",
      "source": [
        "rec(\"Animal Farm\")[1]"
      ],
      "metadata": {
        "id": "caU4KfZ7dKTk"
      },
      "execution_count": null,
      "outputs": []
    },
    {
      "cell_type": "code",
      "source": [
        "books_image_data[books_image_data.title==\"Exclusive\"]"
      ],
      "metadata": {
        "colab": {
          "base_uri": "https://localhost:8080/",
          "height": 81
        },
        "id": "sIT1VSnzhhPR",
        "outputId": "6692b02e-8a73-4b60-feb8-7a433ea187ed"
      },
      "execution_count": null,
      "outputs": [
        {
          "output_type": "execute_result",
          "data": {
            "text/plain": [
              "           title                                              image\n",
              "19105  Exclusive  http://images.amazon.com/images/P/0446604232.0..."
            ],
            "text/html": [
              "\n",
              "  <div id=\"df-f37c99a7-7b47-4527-94c4-17c86b4c5934\">\n",
              "    <div class=\"colab-df-container\">\n",
              "      <div>\n",
              "<style scoped>\n",
              "    .dataframe tbody tr th:only-of-type {\n",
              "        vertical-align: middle;\n",
              "    }\n",
              "\n",
              "    .dataframe tbody tr th {\n",
              "        vertical-align: top;\n",
              "    }\n",
              "\n",
              "    .dataframe thead th {\n",
              "        text-align: right;\n",
              "    }\n",
              "</style>\n",
              "<table border=\"1\" class=\"dataframe\">\n",
              "  <thead>\n",
              "    <tr style=\"text-align: right;\">\n",
              "      <th></th>\n",
              "      <th>title</th>\n",
              "      <th>image</th>\n",
              "    </tr>\n",
              "  </thead>\n",
              "  <tbody>\n",
              "    <tr>\n",
              "      <th>19105</th>\n",
              "      <td>Exclusive</td>\n",
              "      <td>http://images.amazon.com/images/P/0446604232.0...</td>\n",
              "    </tr>\n",
              "  </tbody>\n",
              "</table>\n",
              "</div>\n",
              "      <button class=\"colab-df-convert\" onclick=\"convertToInteractive('df-f37c99a7-7b47-4527-94c4-17c86b4c5934')\"\n",
              "              title=\"Convert this dataframe to an interactive table.\"\n",
              "              style=\"display:none;\">\n",
              "        \n",
              "  <svg xmlns=\"http://www.w3.org/2000/svg\" height=\"24px\"viewBox=\"0 0 24 24\"\n",
              "       width=\"24px\">\n",
              "    <path d=\"M0 0h24v24H0V0z\" fill=\"none\"/>\n",
              "    <path d=\"M18.56 5.44l.94 2.06.94-2.06 2.06-.94-2.06-.94-.94-2.06-.94 2.06-2.06.94zm-11 1L8.5 8.5l.94-2.06 2.06-.94-2.06-.94L8.5 2.5l-.94 2.06-2.06.94zm10 10l.94 2.06.94-2.06 2.06-.94-2.06-.94-.94-2.06-.94 2.06-2.06.94z\"/><path d=\"M17.41 7.96l-1.37-1.37c-.4-.4-.92-.59-1.43-.59-.52 0-1.04.2-1.43.59L10.3 9.45l-7.72 7.72c-.78.78-.78 2.05 0 2.83L4 21.41c.39.39.9.59 1.41.59.51 0 1.02-.2 1.41-.59l7.78-7.78 2.81-2.81c.8-.78.8-2.07 0-2.86zM5.41 20L4 18.59l7.72-7.72 1.47 1.35L5.41 20z\"/>\n",
              "  </svg>\n",
              "      </button>\n",
              "      \n",
              "  <style>\n",
              "    .colab-df-container {\n",
              "      display:flex;\n",
              "      flex-wrap:wrap;\n",
              "      gap: 12px;\n",
              "    }\n",
              "\n",
              "    .colab-df-convert {\n",
              "      background-color: #E8F0FE;\n",
              "      border: none;\n",
              "      border-radius: 50%;\n",
              "      cursor: pointer;\n",
              "      display: none;\n",
              "      fill: #1967D2;\n",
              "      height: 32px;\n",
              "      padding: 0 0 0 0;\n",
              "      width: 32px;\n",
              "    }\n",
              "\n",
              "    .colab-df-convert:hover {\n",
              "      background-color: #E2EBFA;\n",
              "      box-shadow: 0px 1px 2px rgba(60, 64, 67, 0.3), 0px 1px 3px 1px rgba(60, 64, 67, 0.15);\n",
              "      fill: #174EA6;\n",
              "    }\n",
              "\n",
              "    [theme=dark] .colab-df-convert {\n",
              "      background-color: #3B4455;\n",
              "      fill: #D2E3FC;\n",
              "    }\n",
              "\n",
              "    [theme=dark] .colab-df-convert:hover {\n",
              "      background-color: #434B5C;\n",
              "      box-shadow: 0px 1px 3px 1px rgba(0, 0, 0, 0.15);\n",
              "      filter: drop-shadow(0px 1px 2px rgba(0, 0, 0, 0.3));\n",
              "      fill: #FFFFFF;\n",
              "    }\n",
              "  </style>\n",
              "\n",
              "      <script>\n",
              "        const buttonEl =\n",
              "          document.querySelector('#df-f37c99a7-7b47-4527-94c4-17c86b4c5934 button.colab-df-convert');\n",
              "        buttonEl.style.display =\n",
              "          google.colab.kernel.accessAllowed ? 'block' : 'none';\n",
              "\n",
              "        async function convertToInteractive(key) {\n",
              "          const element = document.querySelector('#df-f37c99a7-7b47-4527-94c4-17c86b4c5934');\n",
              "          const dataTable =\n",
              "            await google.colab.kernel.invokeFunction('convertToInteractive',\n",
              "                                                     [key], {});\n",
              "          if (!dataTable) return;\n",
              "\n",
              "          const docLinkHtml = 'Like what you see? Visit the ' +\n",
              "            '<a target=\"_blank\" href=https://colab.research.google.com/notebooks/data_table.ipynb>data table notebook</a>'\n",
              "            + ' to learn more about interactive tables.';\n",
              "          element.innerHTML = '';\n",
              "          dataTable['output_type'] = 'display_data';\n",
              "          await google.colab.output.renderOutput(dataTable, element);\n",
              "          const docLink = document.createElement('div');\n",
              "          docLink.innerHTML = docLinkHtml;\n",
              "          element.appendChild(docLink);\n",
              "        }\n",
              "      </script>\n",
              "    </div>\n",
              "  </div>\n",
              "  "
            ]
          },
          "metadata": {},
          "execution_count": 338
        }
      ]
    }
  ],
  "metadata": {
    "colab": {
      "collapsed_sections": [],
      "name": "Book Recommender System.ipynb",
      "provenance": []
    },
    "kernelspec": {
      "display_name": "Python 3",
      "name": "python3"
    },
    "language_info": {
      "name": "python"
    }
  },
  "nbformat": 4,
  "nbformat_minor": 0
}